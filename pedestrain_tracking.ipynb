{
  "nbformat": 4,
  "nbformat_minor": 0,
  "metadata": {
    "colab": {
      "name": "pedestrain_tracking.ipynb",
      "provenance": [],
      "collapsed_sections": [],
      "include_colab_link": true
    },
    "kernelspec": {
      "name": "python3",
      "display_name": "Python 3"
    },
    "accelerator": "GPU"
  },
  "cells": [
    {
      "cell_type": "markdown",
      "metadata": {
        "id": "view-in-github",
        "colab_type": "text"
      },
      "source": [
        "<a href=\"https://colab.research.google.com/github/quanict/colaboratory-script/blob/master/pedestrain_tracking.ipynb\" target=\"_parent\"><img src=\"https://colab.research.google.com/assets/colab-badge.svg\" alt=\"Open In Colab\"/></a>"
      ]
    },
    {
      "cell_type": "code",
      "metadata": {
        "id": "DY9DMYESO9ss",
        "colab_type": "code",
        "colab": {}
      },
      "source": [
        "import os\n",
        "from os.path import exists, join, basename\n",
        "\n",
        "project_name = \"deep_sort_pytorch\"\n",
        "if not exists(project_name):\n",
        "  # clone and install\n",
        "  !git clone -q --recursive https://github.com/ZQPei/deep_sort_pytorch.git\n",
        "  \n",
        "import sys\n",
        "sys.path.append(project_name)\n",
        "sys.path.append(join(project_name, 'YOLOv3'))\n",
        "\n",
        "import IPython\n",
        "from IPython.display import clear_output"
      ],
      "execution_count": 0,
      "outputs": []
    },
    {
      "cell_type": "code",
      "metadata": {
        "id": "UAoCT6chPAtz",
        "colab_type": "code",
        "outputId": "b8d4a49b-f5d1-406a-c571-50387f0eac8f",
        "colab": {
          "base_uri": "https://localhost:8080/",
          "height": 85
        }
      },
      "source": [
        "if not exists('yolov3.weights'):\n",
        "  !wget -q https://pjreddie.com/media/files/yolov3.weights\n",
        "    \n",
        "if not exists('ckpt.t7'):\n",
        "  file_id = '1_qwTWdzT9dWNudpusgKavj_4elGgbkUN'\n",
        "  !curl -Lb ./cookie \"https://drive.google.com/uc?export=download&id={file_id}\" -o ckpt.t7"
      ],
      "execution_count": 0,
      "outputs": [
        {
          "output_type": "stream",
          "text": [
            "  % Total    % Received % Xferd  Average Speed   Time    Time     Time  Current\n",
            "                                 Dload  Upload   Total   Spent    Left  Speed\n",
            "100   388    0   388    0     0    184      0 --:--:--  0:00:02 --:--:--   184\n",
            "100 43.9M    0 43.9M    0     0  16.0M      0 --:--:--  0:00:02 --:--:--  101M\n"
          ],
          "name": "stdout"
        }
      ]
    },
    {
      "cell_type": "code",
      "metadata": {
        "id": "MxFbOfiFPCcT",
        "colab_type": "code",
        "outputId": "c2e19590-ddf6-48bd-b9ae-66c9426c3b6c",
        "colab": {
          "base_uri": "https://localhost:8080/",
          "height": 367
        }
      },
      "source": [
        "import cv2\n",
        "import time\n",
        "\n",
        "from YOLOv3 import YOLOv3\n",
        "from deep_sort import DeepSort\n",
        "from util import draw_bboxes\n",
        "\n",
        "yolo3 = YOLOv3(\"deep_sort_pytorch/YOLOv3/cfg/yolo_v3.cfg\",\"yolov3.weights\",\"deep_sort_pytorch/YOLOv3/cfg/coco.names\", is_xywh=True)\n",
        "deepsort = DeepSort(\"ckpt.t7\")"
      ],
      "execution_count": 0,
      "outputs": [
        {
          "output_type": "error",
          "ename": "ModuleNotFoundError",
          "evalue": "ignored",
          "traceback": [
            "\u001b[0;31m---------------------------------------------------------------------------\u001b[0m",
            "\u001b[0;31mModuleNotFoundError\u001b[0m                       Traceback (most recent call last)",
            "\u001b[0;32m<ipython-input-3-1177ef994014>\u001b[0m in \u001b[0;36m<module>\u001b[0;34m()\u001b[0m\n\u001b[1;32m      2\u001b[0m \u001b[0;32mimport\u001b[0m \u001b[0mtime\u001b[0m\u001b[0;34m\u001b[0m\u001b[0;34m\u001b[0m\u001b[0m\n\u001b[1;32m      3\u001b[0m \u001b[0;34m\u001b[0m\u001b[0m\n\u001b[0;32m----> 4\u001b[0;31m \u001b[0;32mfrom\u001b[0m \u001b[0mYOLOv3\u001b[0m \u001b[0;32mimport\u001b[0m \u001b[0mYOLOv3\u001b[0m\u001b[0;34m\u001b[0m\u001b[0;34m\u001b[0m\u001b[0m\n\u001b[0m\u001b[1;32m      5\u001b[0m \u001b[0;32mfrom\u001b[0m \u001b[0mdeep_sort\u001b[0m \u001b[0;32mimport\u001b[0m \u001b[0mDeepSort\u001b[0m\u001b[0;34m\u001b[0m\u001b[0;34m\u001b[0m\u001b[0m\n\u001b[1;32m      6\u001b[0m \u001b[0;32mfrom\u001b[0m \u001b[0mutil\u001b[0m \u001b[0;32mimport\u001b[0m \u001b[0mdraw_bboxes\u001b[0m\u001b[0;34m\u001b[0m\u001b[0;34m\u001b[0m\u001b[0m\n",
            "\u001b[0;31mModuleNotFoundError\u001b[0m: No module named 'YOLOv3'",
            "",
            "\u001b[0;31m---------------------------------------------------------------------------\u001b[0;32m\nNOTE: If your import is failing due to a missing package, you can\nmanually install dependencies using either !pip or !apt.\n\nTo view examples of installing some common dependencies, click the\n\"Open Examples\" button below.\n\u001b[0;31m---------------------------------------------------------------------------\u001b[0m\n"
          ]
        }
      ]
    },
    {
      "cell_type": "code",
      "metadata": {
        "id": "uz_oYzKlPEoM",
        "colab_type": "code",
        "colab": {}
      },
      "source": [
        "VIDEO_URL = 'http://www.robots.ox.ac.uk/ActiveVision/Research/Projects/2009bbenfold_headpose/Datasets/TownCentreXVID.avi'\n",
        "DURATION_S = 20  # process only the first 20 seconds\n",
        "\n",
        "video_file_name = 'video.mp4'\n",
        "if not exists(video_file_name):\n",
        "  !wget -q $VIDEO_URL\n",
        "  dowloaded_file_name = basename(VIDEO_URL)\n",
        "  # convert to MP4, because we can show only MP4 videos in the colab noteook\n",
        "  !ffmpeg -y -loglevel info -t $DURATION_S -i $dowloaded_file_name $video_file_name\n",
        "  \n",
        "\n",
        "def show_local_mp4_video(file_name, width=640, height=480):\n",
        "  import io\n",
        "  import base64\n",
        "  from IPython.display import HTML\n",
        "  video_encoded = base64.b64encode(io.open(file_name, 'rb').read())\n",
        "  return HTML(data='''<video width=\"{0}\" height=\"{1}\" alt=\"test\" controls>\n",
        "                        <source src=\"data:video/mp4;base64,{2}\" type=\"video/mp4\" />\n",
        "                      </video>'''.format(width, height, video_encoded.decode('ascii')))\n",
        " \n",
        "clear_output()\n",
        "video = show_local_mp4_video('video.mp4')\n",
        "video"
      ],
      "execution_count": 0,
      "outputs": []
    },
    {
      "cell_type": "code",
      "metadata": {
        "id": "z86Qi5gEP0X7",
        "colab_type": "code",
        "colab": {}
      },
      "source": [
        "video_capture = cv2.VideoCapture()\n",
        "if video_capture.open('video.mp4'):\n",
        "  width, height = int(video_capture.get(cv2.CAP_PROP_FRAME_WIDTH)), int(video_capture.get(cv2.CAP_PROP_FRAME_HEIGHT))\n",
        "  fps = video_capture.get(cv2.CAP_PROP_FPS)\n",
        "  !rm -f output.mp4 output.avi\n",
        "  # can't write out mp4, so try to write into an AVI file\n",
        "  video_writer = cv2.VideoWriter(\"output.avi\", cv2.VideoWriter_fourcc(*'MJPG'), fps, (width, height))\n",
        "  while video_capture.isOpened():\n",
        "    ret, frame = video_capture.read()\n",
        "    if not ret:\n",
        "      break\n",
        "      \n",
        "    start = time.time()\n",
        "    xmin, ymin, xmax, ymax = 0, 0, width, height\n",
        "    im = frame[ymin:ymax, xmin:xmax, (2,1,0)]\n",
        "    bbox_xywh, cls_conf, cls_ids = yolo3(im)\n",
        "    if bbox_xywh is not None:\n",
        "        mask = cls_ids==0\n",
        "        bbox_xywh = bbox_xywh[mask]\n",
        "        bbox_xywh[:,3] *= 1.2\n",
        "        cls_conf = cls_conf[mask]\n",
        "        outputs = deepsort.update(bbox_xywh, cls_conf, im)\n",
        "        if len(outputs) > 0:\n",
        "            bbox_xyxy = outputs[:,:4]\n",
        "            identities = outputs[:,-1]\n",
        "            frame = draw_bboxes(frame, bbox_xyxy, identities, offset=(xmin,ymin))\n",
        "\n",
        "    end = time.time()\n",
        "    print(\"time: {}s, fps: {}\".format(end-start, 1/(end-start)))\n",
        "            \n",
        "    video_writer.write(frame)\n",
        "  video_capture.release()\n",
        "  video_writer.release()\n",
        "  \n",
        "  # convert AVI to MP4\n",
        "  !ffmpeg -y -loglevel info -i output.avi output.mp4\n",
        "else:\n",
        "  print(\"can't open the given input video file!\")"
      ],
      "execution_count": 0,
      "outputs": []
    },
    {
      "cell_type": "code",
      "metadata": {
        "id": "LnpjqG2lP1Gl",
        "colab_type": "code",
        "colab": {}
      },
      "source": [
        "show_local_mp4_video('output.mp4', width=960, height=720)"
      ],
      "execution_count": 0,
      "outputs": []
    }
  ]
}